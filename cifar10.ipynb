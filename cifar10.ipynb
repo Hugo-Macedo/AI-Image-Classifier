{
 "cells": [
  {
   "cell_type": "code",
   "execution_count": 32,
   "metadata": {},
   "outputs": [
    {
     "name": "stdout",
     "output_type": "stream",
     "text": [
      "Requirement already satisfied: torch in c:\\users\\hugo\\appdata\\local\\programs\\python\\python311\\lib\\site-packages (2.5.1+cpu)\n",
      "Requirement already satisfied: torchvision in c:\\users\\hugo\\appdata\\local\\programs\\python\\python311\\lib\\site-packages (0.20.1+cpu)\n",
      "Requirement already satisfied: onnx in c:\\users\\hugo\\appdata\\local\\programs\\python\\python311\\lib\\site-packages (1.17.0)\n",
      "Requirement already satisfied: onnxruntime in c:\\users\\hugo\\appdata\\local\\programs\\python\\python311\\lib\\site-packages (1.20.1)\n",
      "Requirement already satisfied: onnxscript in c:\\users\\hugo\\appdata\\local\\programs\\python\\python311\\lib\\site-packages (0.1.0)\n",
      "Requirement already satisfied: filelock in c:\\users\\hugo\\appdata\\local\\programs\\python\\python311\\lib\\site-packages (from torch) (3.13.1)\n",
      "Requirement already satisfied: typing-extensions>=4.8.0 in c:\\users\\hugo\\appdata\\roaming\\python\\python311\\site-packages (from torch) (4.12.2)\n",
      "Requirement already satisfied: networkx in c:\\users\\hugo\\appdata\\local\\programs\\python\\python311\\lib\\site-packages (from torch) (3.2.1)\n",
      "Requirement already satisfied: jinja2 in c:\\users\\hugo\\appdata\\local\\programs\\python\\python311\\lib\\site-packages (from torch) (3.1.3)\n",
      "Requirement already satisfied: fsspec in c:\\users\\hugo\\appdata\\local\\programs\\python\\python311\\lib\\site-packages (from torch) (2024.2.0)\n",
      "Requirement already satisfied: sympy==1.13.1 in c:\\users\\hugo\\appdata\\local\\programs\\python\\python311\\lib\\site-packages (from torch) (1.13.1)\n",
      "Requirement already satisfied: mpmath<1.4,>=1.1.0 in c:\\users\\hugo\\appdata\\local\\programs\\python\\python311\\lib\\site-packages (from sympy==1.13.1->torch) (1.3.0)\n",
      "Requirement already satisfied: numpy in c:\\users\\hugo\\appdata\\local\\programs\\python\\python311\\lib\\site-packages (from torchvision) (1.26.3)\n",
      "Requirement already satisfied: pillow!=8.3.*,>=5.3.0 in c:\\users\\hugo\\appdata\\local\\programs\\python\\python311\\lib\\site-packages (from torchvision) (10.2.0)\n",
      "Requirement already satisfied: protobuf>=3.20.2 in c:\\users\\hugo\\appdata\\local\\programs\\python\\python311\\lib\\site-packages (from onnx) (5.29.3)\n",
      "Requirement already satisfied: coloredlogs in c:\\users\\hugo\\appdata\\local\\programs\\python\\python311\\lib\\site-packages (from onnxruntime) (15.0.1)\n",
      "Requirement already satisfied: flatbuffers in c:\\users\\hugo\\appdata\\local\\programs\\python\\python311\\lib\\site-packages (from onnxruntime) (25.1.24)\n",
      "Requirement already satisfied: packaging in c:\\users\\hugo\\appdata\\roaming\\python\\python311\\site-packages (from onnxruntime) (24.2)\n",
      "Requirement already satisfied: ml_dtypes in c:\\users\\hugo\\appdata\\local\\programs\\python\\python311\\lib\\site-packages (from onnxscript) (0.5.1)\n",
      "Requirement already satisfied: humanfriendly>=9.1 in c:\\users\\hugo\\appdata\\local\\programs\\python\\python311\\lib\\site-packages (from coloredlogs->onnxruntime) (10.0)\n",
      "Requirement already satisfied: MarkupSafe>=2.0 in c:\\users\\hugo\\appdata\\local\\programs\\python\\python311\\lib\\site-packages (from jinja2->torch) (2.1.5)\n",
      "Requirement already satisfied: pyreadline3 in c:\\users\\hugo\\appdata\\local\\programs\\python\\python311\\lib\\site-packages (from humanfriendly>=9.1->coloredlogs->onnxruntime) (3.5.4)\n"
     ]
    },
    {
     "name": "stderr",
     "output_type": "stream",
     "text": [
      "\n",
      "[notice] A new release of pip available: 22.3 -> 25.0\n",
      "[notice] To update, run: python.exe -m pip install --upgrade pip\n"
     ]
    }
   ],
   "source": [
    "!python -m pip install torch torchvision onnx onnxruntime onnxscript"
   ]
  },
  {
   "cell_type": "code",
   "execution_count": 33,
   "metadata": {},
   "outputs": [],
   "source": [
    "import torch\n",
    "import torchvision\n",
    "import torchvision.transforms as transforms\n",
    "import ssl\n",
    "import torch.nn as nn\n",
    "import torch.nn.functional as F\n",
    "import torch.optim as optim\n",
    "\n",
    "ssl._create_default_https_context = ssl._create_unverified_context"
   ]
  },
  {
   "cell_type": "code",
   "execution_count": 34,
   "metadata": {},
   "outputs": [],
   "source": [
    "device = torch.device(\"cuda\" if torch.cuda.is_available() else \"cpu\")"
   ]
  },
  {
   "cell_type": "code",
   "execution_count": 35,
   "metadata": {},
   "outputs": [],
   "source": [
    "transform = transforms.Compose([\n",
    "    transforms.ToTensor(),\n",
    "    transforms.Normalize((0.5, 0.5, 0.5), (0.5, 0.5, 0.5))  # Normalisation des images\n",
    "])"
   ]
  },
  {
   "cell_type": "code",
   "execution_count": 36,
   "metadata": {},
   "outputs": [
    {
     "name": "stdout",
     "output_type": "stream",
     "text": [
      "Files already downloaded and verified\n"
     ]
    }
   ],
   "source": [
    "# Charger les données d'entraînement\n",
    "trainset = torchvision.datasets.CIFAR10(root='./data', train=True, download=True, transform=transform)\n",
    "trainloader = torch.utils.data.DataLoader(trainset, batch_size=4, shuffle=True, num_workers=2)\n"
   ]
  },
  {
   "cell_type": "code",
   "execution_count": 37,
   "metadata": {},
   "outputs": [
    {
     "name": "stdout",
     "output_type": "stream",
     "text": [
      "Files already downloaded and verified\n"
     ]
    }
   ],
   "source": [
    "testset = torchvision.datasets.CIFAR10(root='./data', train=False, download=True, transform=transform)\n",
    "testloader = torch.utils.data.DataLoader(testset, batch_size=4, shuffle=False, num_workers=2)"
   ]
  },
  {
   "cell_type": "code",
   "execution_count": 38,
   "metadata": {},
   "outputs": [],
   "source": [
    "classes = ('avion', 'automobile', 'oiseau', 'chat', 'cerf', 'chien', 'grenouille', 'cheval', 'bateau', 'camion')\n"
   ]
  },
  {
   "cell_type": "code",
   "execution_count": 39,
   "metadata": {},
   "outputs": [],
   "source": [
    "import matplotlib.pyplot as plt\n",
    "import numpy as np\n"
   ]
  },
  {
   "cell_type": "code",
   "execution_count": 40,
   "metadata": {},
   "outputs": [],
   "source": [
    "def imshow(img):\n",
    "    img = img / 2 + 0.5  # Dé-normalisation des images\n",
    "    npimg = img.numpy()\n",
    "    plt.imshow(np.transpose(npimg, (1, 2, 0)))\n",
    "    plt.show()"
   ]
  },
  {
   "cell_type": "code",
   "execution_count": 41,
   "metadata": {},
   "outputs": [],
   "source": [
    "dataiter = iter(trainloader)\n",
    "images, labels = next(dataiter)"
   ]
  },
  {
   "cell_type": "code",
   "execution_count": 42,
   "metadata": {},
   "outputs": [
    {
     "data": {
      "image/png": "[encoded data removed]",
      "text/plain": [
       "<Figure size 640x480 with 1 Axes>"
      ]
     },
     "metadata": {},
     "output_type": "display_data"
    },
    {
     "name": "stdout",
     "output_type": "stream",
     "text": [
      "Labels : oiseau grenouille oiseau avion\n"
     ]
    }
   ],
   "source": [
    "imshow(torchvision.utils.make_grid(images))\n",
    "print('Labels :', ' '.join(f'{classes[labels[j]]}' for j in range(4)))"
   ]
  },
  {
   "cell_type": "code",
   "execution_count": 43,
   "metadata": {},
   "outputs": [],
   "source": [
    "class Net(nn.Module):\n",
    "    def __init__(self):\n",
    "        super(Net, self).__init__()\n",
    "        self.conv1 = nn.Conv2d(3, 6, 5)  # Convolution 1\n",
    "        self.pool = nn.MaxPool2d(2, 2)  # Pooling\n",
    "        self.conv2 = nn.Conv2d(6, 16, 5)  # Convolution 2\n",
    "        self.fc1 = nn.Linear(16 * 5 * 5, 120)  # Fully Connected Layer 1\n",
    "        self.fc2 = nn.Linear(120, 84)  # Fully Connected Layer 2\n",
    "        self.fc3 = nn.Linear(84, 10)  # Fully Connected Layer 3\n",
    "\n",
    "    def forward(self, x):\n",
    "        x = self.pool(F.relu(self.conv1(x)))\n",
    "        x = self.pool(F.relu(self.conv2(x)))\n",
    "        x = torch.flatten(x, 1)  # Flatten the tensor\n",
    "        x = F.relu(self.fc1(x))\n",
    "        x = F.relu(self.fc2(x))\n",
    "        x = self.fc3(x)\n",
    "        return x\n",
    "\n",
    "net = Net().to(device)"
   ]
  },
  {
   "cell_type": "code",
   "execution_count": 44,
   "metadata": {},
   "outputs": [
    {
     "name": "stdout",
     "output_type": "stream",
     "text": [
      "Net(\n",
      "  (conv1): Conv2d(3, 6, kernel_size=(5, 5), stride=(1, 1))\n",
      "  (pool): MaxPool2d(kernel_size=2, stride=2, padding=0, dilation=1, ceil_mode=False)\n",
      "  (conv2): Conv2d(6, 16, kernel_size=(5, 5), stride=(1, 1))\n",
      "  (fc1): Linear(in_features=400, out_features=120, bias=True)\n",
      "  (fc2): Linear(in_features=120, out_features=84, bias=True)\n",
      "  (fc3): Linear(in_features=84, out_features=10, bias=True)\n",
      ")\n"
     ]
    }
   ],
   "source": [
    "# Affichage de l'architecture du modèle cifar\n",
    "print(net)"
   ]
  },
  {
   "cell_type": "code",
   "execution_count": 45,
   "metadata": {},
   "outputs": [],
   "source": [
    "criterion = nn.CrossEntropyLoss()  # Fonction de perte\n",
    "optimizer = optim.SGD(net.parameters(), lr=0.001, momentum=0.9)  # Optimiseur\n"
   ]
  },
  {
   "cell_type": "code",
   "execution_count": 46,
   "metadata": {},
   "outputs": [
    {
     "name": "stdout",
     "output_type": "stream",
     "text": [
      "[Epoch 1, Mini-batch 2000] Loss: 2.183\n",
      "[Epoch 1, Mini-batch 4000] Loss: 1.809\n",
      "[Epoch 1, Mini-batch 6000] Loss: 1.684\n",
      "[Epoch 1, Mini-batch 8000] Loss: 1.583\n",
      "[Epoch 1, Mini-batch 10000] Loss: 1.533\n",
      "[Epoch 1, Mini-batch 12000] Loss: 1.464\n",
      "[Epoch 2, Mini-batch 2000] Loss: 1.398\n",
      "[Epoch 2, Mini-batch 4000] Loss: 1.376\n",
      "[Epoch 2, Mini-batch 6000] Loss: 1.348\n",
      "[Epoch 2, Mini-batch 8000] Loss: 1.315\n",
      "[Epoch 2, Mini-batch 10000] Loss: 1.292\n",
      "[Epoch 2, Mini-batch 12000] Loss: 1.266\n",
      "Entraînement terminé\n"
     ]
    }
   ],
   "source": [
    "for epoch in range(2):  # Nombre d'époques\n",
    "    running_loss = 0.0\n",
    "    for i, data in enumerate(trainloader, 0):\n",
    "        # Obtenir les entrées et les labels\n",
    "        inputs, labels = data[0].to(device), data[1].to(device)\n",
    "\n",
    "        # Réinitialiser les gradients\n",
    "        optimizer.zero_grad()\n",
    "\n",
    "        # Propagation avant, perte, rétropropagation et optimisation\n",
    "        outputs = net(inputs)\n",
    "        loss = criterion(outputs, labels)\n",
    "        loss.backward()\n",
    "        optimizer.step()\n",
    "\n",
    "        # Afficher les statistiques\n",
    "        running_loss += loss.item()\n",
    "        if i % 2000 == 1999:  # Affichage tous les 2000 mini-batches\n",
    "            print(f'[Epoch {epoch + 1}, Mini-batch {i + 1}] Loss: {running_loss / 2000:.3f}')\n",
    "            running_loss = 0.0\n",
    "\n",
    "print('Entraînement terminé')"
   ]
  },
  {
   "cell_type": "markdown",
   "metadata": {},
   "source": [
    "On observe ici que le modèle fait beaucoup plus d'erreurs au début qu'a la fin donc le modèle apprend mais à la fin ça stagne "
   ]
  },
  {
   "cell_type": "code",
   "execution_count": 47,
   "metadata": {},
   "outputs": [],
   "source": [
    "correct = 0\n",
    "total = 0"
   ]
  },
  {
   "cell_type": "code",
   "execution_count": 48,
   "metadata": {},
   "outputs": [],
   "source": [
    "with torch.no_grad():\n",
    "    for data in testloader:\n",
    "        images, labels = data[0].to(device), data[1].to(device)\n",
    "        outputs = net(images)\n",
    "        _, predicted = torch.max(outputs, 1)  # Prédictions\n",
    "        total += labels.size(0)\n",
    "        correct += (predicted == labels).sum().item()"
   ]
  },
  {
   "cell_type": "code",
   "execution_count": 49,
   "metadata": {},
   "outputs": [
    {
     "name": "stdout",
     "output_type": "stream",
     "text": [
      "Précision du réseau sur les 10 000 images de test : 54.63%\n"
     ]
    }
   ],
   "source": [
    "print(f'Précision du réseau sur les 10 000 images de test : {100 * correct / total:.2f}%')\n"
   ]
  },
  {
   "cell_type": "markdown",
   "metadata": {},
   "source": [
    "Je vais essayer d'améliorer la précision du modèle :"
   ]
  },
  {
   "cell_type": "code",
   "execution_count": 51,
   "metadata": {},
   "outputs": [
    {
     "name": "stdout",
     "output_type": "stream",
     "text": [
      "ImprovedNet(\n",
      "  (conv1): Conv2d(3, 32, kernel_size=(3, 3), stride=(1, 1), padding=(1, 1))\n",
      "  (bn1): BatchNorm2d(32, eps=1e-05, momentum=0.1, affine=True, track_running_stats=True)\n",
      "  (conv2): Conv2d(32, 64, kernel_size=(3, 3), stride=(1, 1), padding=(1, 1))\n",
      "  (bn2): BatchNorm2d(64, eps=1e-05, momentum=0.1, affine=True, track_running_stats=True)\n",
      "  (pool): MaxPool2d(kernel_size=2, stride=2, padding=0, dilation=1, ceil_mode=False)\n",
      "  (fc1): Linear(in_features=4096, out_features=512, bias=True)\n",
      "  (fc2): Linear(in_features=512, out_features=128, bias=True)\n",
      "  (fc3): Linear(in_features=128, out_features=10, bias=True)\n",
      "  (dropout): Dropout(p=0.5, inplace=False)\n",
      ")\n"
     ]
    }
   ],
   "source": [
    "# 1. Modifier l'architecture du modèle avec Batch Normalization, Dropout et plus de couches\n",
    "class ImprovedNet(nn.Module):\n",
    "    def __init__(self):\n",
    "        super(ImprovedNet, self).__init__()\n",
    "        self.conv1 = nn.Conv2d(3, 32, 3, padding=1)\n",
    "        self.bn1 = nn.BatchNorm2d(32)\n",
    "        self.conv2 = nn.Conv2d(32, 64, 3, padding=1)\n",
    "        self.bn2 = nn.BatchNorm2d(64)\n",
    "        self.pool = nn.MaxPool2d(2, 2)\n",
    "        self.fc1 = nn.Linear(64 * 8 * 8, 512)\n",
    "        self.fc2 = nn.Linear(512, 128)\n",
    "        self.fc3 = nn.Linear(128, 10)\n",
    "        self.dropout = nn.Dropout(0.5)\n",
    "\n",
    "    def forward(self, x):\n",
    "        x = self.pool(F.relu(self.bn1(self.conv1(x))))\n",
    "        x = self.pool(F.relu(self.bn2(self.conv2(x))))\n",
    "        x = torch.flatten(x, 1)\n",
    "        x = F.relu(self.fc1(x))\n",
    "        x = self.dropout(x)\n",
    "        x = F.relu(self.fc2(x))\n",
    "        x = self.fc3(x)\n",
    "        return x\n",
    "\n",
    "net = ImprovedNet().to(device)\n",
    "print(net)"
   ]
  },
  {
   "cell_type": "code",
   "execution_count": 53,
   "metadata": {},
   "outputs": [],
   "source": [
    "# 2. Appliquer l'augmentation des données\n",
    "transform = transforms.Compose([\n",
    "    transforms.RandomHorizontalFlip(),\n",
    "    transforms.RandomRotation(10),\n",
    "    transforms.ToTensor(),\n",
    "    transforms.Normalize((0.5, 0.5, 0.5), (0.5, 0.5, 0.5))\n",
    "])"
   ]
  },
  {
   "cell_type": "code",
   "execution_count": 54,
   "metadata": {},
   "outputs": [
    {
     "name": "stdout",
     "output_type": "stream",
     "text": [
      "Files already downloaded and verified\n"
     ]
    }
   ],
   "source": [
    "trainset = torchvision.datasets.CIFAR10(root='./data', train=True, download=True, transform=transform)\n",
    "trainloader = torch.utils.data.DataLoader(trainset, batch_size=4, shuffle=True, num_workers=2)\n"
   ]
  },
  {
   "cell_type": "code",
   "execution_count": 55,
   "metadata": {},
   "outputs": [],
   "source": [
    "# 3. Utiliser un optimiseur différent comme Adam\n",
    "optimizer = optim.Adam(net.parameters(), lr=0.001)"
   ]
  },
  {
   "cell_type": "code",
   "execution_count": 57,
   "metadata": {},
   "outputs": [
    {
     "name": "stdout",
     "output_type": "stream",
     "text": [
      "[Epoch 1, Mini-batch 2000] Loss: 1.216\n",
      "[Epoch 1, Mini-batch 4000] Loss: 1.217\n",
      "[Epoch 1, Mini-batch 6000] Loss: 1.213\n",
      "[Epoch 1, Mini-batch 8000] Loss: 1.200\n",
      "[Epoch 1, Mini-batch 10000] Loss: 1.192\n",
      "[Epoch 1, Mini-batch 12000] Loss: 1.188\n",
      "[Epoch 2, Mini-batch 2000] Loss: 1.139\n",
      "[Epoch 2, Mini-batch 4000] Loss: 1.159\n",
      "[Epoch 2, Mini-batch 6000] Loss: 1.153\n",
      "[Epoch 2, Mini-batch 8000] Loss: 1.124\n",
      "[Epoch 2, Mini-batch 10000] Loss: 1.130\n",
      "[Epoch 2, Mini-batch 12000] Loss: 1.145\n",
      "[Epoch 3, Mini-batch 2000] Loss: 1.109\n",
      "[Epoch 3, Mini-batch 4000] Loss: 1.095\n",
      "[Epoch 3, Mini-batch 6000] Loss: 1.109\n",
      "[Epoch 3, Mini-batch 8000] Loss: 1.099\n",
      "[Epoch 3, Mini-batch 10000] Loss: 1.103\n",
      "[Epoch 3, Mini-batch 12000] Loss: 1.090\n",
      "[Epoch 4, Mini-batch 2000] Loss: 1.056\n",
      "[Epoch 4, Mini-batch 4000] Loss: 1.055\n",
      "[Epoch 4, Mini-batch 6000] Loss: 1.057\n",
      "[Epoch 4, Mini-batch 8000] Loss: 1.069\n",
      "[Epoch 4, Mini-batch 10000] Loss: 1.071\n",
      "[Epoch 4, Mini-batch 12000] Loss: 1.084\n",
      "Entraînement terminé avec les améliorations\n"
     ]
    }
   ],
   "source": [
    "# 4. Augmenter le nombre d'époques\n",
    "for epoch in range(4):  # Augmente à 4 époques\n",
    "    running_loss = 0.0\n",
    "    for i, data in enumerate(trainloader, 0):\n",
    "        inputs, labels = data[0].to(device), data[1].to(device)\n",
    "        optimizer.zero_grad()\n",
    "        outputs = net(inputs)\n",
    "        loss = criterion(outputs, labels)\n",
    "        loss.backward()\n",
    "        optimizer.step()\n",
    "        running_loss += loss.item()\n",
    "        if i % 2000 == 1999:\n",
    "            print(f'[Epoch {epoch + 1}, Mini-batch {i + 1}] Loss: {running_loss / 2000:.3f}')\n",
    "            running_loss = 0.0\n",
    "\n",
    "print('Entraînement terminé avec les améliorations')"
   ]
  },
  {
   "cell_type": "code",
   "execution_count": 58,
   "metadata": {},
   "outputs": [
    {
     "name": "stdout",
     "output_type": "stream",
     "text": [
      "Précision améliorée sur les 10 000 images de test : 63.51%\n"
     ]
    }
   ],
   "source": [
    "# 5. J'évalue à nouveau le modèle avec les améliorations\n",
    "correct = 0\n",
    "total = 0\n",
    "with torch.no_grad():\n",
    "    for data in testloader:\n",
    "        images, labels = data[0].to(device), data[1].to(device)\n",
    "        outputs = net(images)\n",
    "        _, predicted = torch.max(outputs, 1)\n",
    "        total += labels.size(0)\n",
    "        correct += (predicted == labels).sum().item()\n",
    "\n",
    "print(f'Précision améliorée sur les 10 000 images de test : {100 * correct / total:.2f}%')\n"
   ]
  },
  {
   "cell_type": "code",
   "execution_count": 59,
   "metadata": {},
   "outputs": [
    {
     "name": "stdout",
     "output_type": "stream",
     "text": [
      "Modèle exporté en ONNX à l'emplacement : improved_net.onnx\n"
     ]
    }
   ],
   "source": [
    "# Étape 7 : Exporter le modèle en ONNX\n",
    "dummy_input = torch.randn(1, 3, 32, 32).to(device)  # Exemple d'entrée avec la même taille que CIFAR-10\n",
    "onnx_file_path = \"improved_net.onnx\"\n",
    "\n",
    "# Exporter le modèle\n",
    "torch.onnx.export(net, dummy_input, onnx_file_path, export_params=True,\n",
    "                  opset_version=11, do_constant_folding=True,\n",
    "                  input_names=['input'], output_names=['output'])\n",
    "\n",
    "print(f\"Modèle exporté en ONNX à l'emplacement : {onnx_file_path}\")"
   ]
  },
  {
   "cell_type": "code",
   "execution_count": 60,
   "metadata": {},
   "outputs": [
    {
     "name": "stdout",
     "output_type": "stream",
     "text": [
      "Classe prédite par le modèle ONNX : chien\n"
     ]
    }
   ],
   "source": [
    "#Test \n",
    "import onnxruntime as ort\n",
    "session = ort.InferenceSession(onnx_file_path)\n",
    "example_input = dummy_input.cpu().numpy()\n",
    "outputs = session.run(None, {\"input\": example_input})\n",
    "predicted_class = np.argmax(outputs[0])\n",
    "print(f\"Classe prédite par le modèle ONNX : {classes[predicted_class]}\")"
   ]
  }
 ],
 "metadata": {
  "kernelspec": {
   "display_name": "Python 3",
   "language": "python",
   "name": "python3"
  },
  "language_info": {
   "codemirror_mode": {
    "name": "ipython",
    "version": 3
   },
   "file_extension": ".py",
   "mimetype": "text/x-python",
   "name": "python",
   "nbconvert_exporter": "python",
   "pygments_lexer": "ipython3",
   "version": "3.11.0"
  }
 },
 "nbformat": 4,
 "nbformat_minor": 2
}
